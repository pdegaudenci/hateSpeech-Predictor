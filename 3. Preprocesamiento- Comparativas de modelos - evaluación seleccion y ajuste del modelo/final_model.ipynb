{
 "cells": [
  {
   "cell_type": "markdown",
   "metadata": {},
   "source": [
    "# Importar libreria requeridas"
   ]
  },
  {
   "cell_type": "code",
   "execution_count": 62,
   "metadata": {
    "_cell_guid": "b1076dfc-b9ad-4769-8c92-a6c4dae69d19",
    "_uuid": "8f2839f25d086af736a60e9eeb907d3b93b6e0e5",
    "execution": {
     "iopub.execute_input": "2022-10-26T19:00:23.039279Z",
     "iopub.status.busy": "2022-10-26T19:00:23.037978Z",
     "iopub.status.idle": "2022-10-26T19:00:25.909485Z",
     "shell.execute_reply": "2022-10-26T19:00:25.908251Z",
     "shell.execute_reply.started": "2022-10-26T19:00:23.039153Z"
    }
   },
   "outputs": [
    {
     "name": "stderr",
     "output_type": "stream",
     "text": [
      "[nltk_data] Downloading package omw-1.4 to\n",
      "[nltk_data]     C:\\Users\\pdega\\AppData\\Roaming\\nltk_data...\n",
      "[nltk_data]   Package omw-1.4 is already up-to-date!\n",
      "[nltk_data] Downloading package stopwords to\n",
      "[nltk_data]     C:\\Users\\pdega\\AppData\\Roaming\\nltk_data...\n",
      "[nltk_data]   Package stopwords is already up-to-date!\n"
     ]
    }
   ],
   "source": [
    "import numpy as np # linear algebra\n",
    "import pandas as pd # data processing, CSV file I/O (e.g. pd.read_csv)\n",
    "\n",
    "# NLTK \n",
    "import nltk\n",
    "from nltk.tokenize import wordpunct_tokenize, word_tokenize\n",
    "from nltk.stem import WordNetLemmatizer\n",
    "from nltk.corpus import stopwords\n",
    "\n",
    "#nltk.download()\n",
    "nltk.download('omw-1.4')\n",
    "nltk.download('stopwords')\n",
    "\n",
    "# data visual\n",
    "import matplotlib.pyplot as plt\n",
    "import seaborn as sns\n",
    "from wordcloud import WordCloud\n",
    "\n",
    "# string proccessing\n",
    "import re\n",
    "import string\n"
   ]
  },
  {
   "cell_type": "code",
   "execution_count": 63,
   "metadata": {
    "execution": {
     "iopub.execute_input": "2022-10-26T19:00:25.911656Z",
     "iopub.status.busy": "2022-10-26T19:00:25.911258Z",
     "iopub.status.idle": "2022-10-26T19:00:26.007996Z",
     "shell.execute_reply": "2022-10-26T19:00:26.006589Z",
     "shell.execute_reply.started": "2022-10-26T19:00:25.911625Z"
    }
   },
   "outputs": [
    {
     "data": {
      "text/html": [
       "<div>\n",
       "<style scoped>\n",
       "    .dataframe tbody tr th:only-of-type {\n",
       "        vertical-align: middle;\n",
       "    }\n",
       "\n",
       "    .dataframe tbody tr th {\n",
       "        vertical-align: top;\n",
       "    }\n",
       "\n",
       "    .dataframe thead th {\n",
       "        text-align: right;\n",
       "    }\n",
       "</style>\n",
       "<table border=\"1\" class=\"dataframe\">\n",
       "  <thead>\n",
       "    <tr style=\"text-align: right;\">\n",
       "      <th></th>\n",
       "      <th>Text</th>\n",
       "      <th>IsToxic</th>\n",
       "    </tr>\n",
       "  </thead>\n",
       "  <tbody>\n",
       "    <tr>\n",
       "      <th>0</th>\n",
       "      <td>people step case nt people situation    lump m...</td>\n",
       "      <td>False</td>\n",
       "    </tr>\n",
       "    <tr>\n",
       "      <th>1</th>\n",
       "      <td>Law enforcement trained shoot apprehend   trai...</td>\n",
       "      <td>True</td>\n",
       "    </tr>\n",
       "    <tr>\n",
       "      <th>2</th>\n",
       "      <td>nt reckon black lives matter banners held whit...</td>\n",
       "      <td>True</td>\n",
       "    </tr>\n",
       "    <tr>\n",
       "      <th>3</th>\n",
       "      <td>large number people like police officers calle...</td>\n",
       "      <td>False</td>\n",
       "    </tr>\n",
       "    <tr>\n",
       "      <th>4</th>\n",
       "      <td>Arab dude absolutely right shot   extra time S...</td>\n",
       "      <td>False</td>\n",
       "    </tr>\n",
       "    <tr>\n",
       "      <th>5</th>\n",
       "      <td>people facebook    ties isis terrorist groups ...</td>\n",
       "      <td>True</td>\n",
       "    </tr>\n",
       "    <tr>\n",
       "      <th>6</th>\n",
       "      <td>Check tube post Black man goes epic rant Fergu...</td>\n",
       "      <td>True</td>\n",
       "    </tr>\n",
       "    <tr>\n",
       "      <th>7</th>\n",
       "      <td>LOVE pussy Staten Island spit cop LOVE happen ...</td>\n",
       "      <td>True</td>\n",
       "    </tr>\n",
       "    <tr>\n",
       "      <th>8</th>\n",
       "      <td>agree protestor</td>\n",
       "      <td>False</td>\n",
       "    </tr>\n",
       "    <tr>\n",
       "      <th>9</th>\n",
       "      <td>mike browns father boooshit</td>\n",
       "      <td>True</td>\n",
       "    </tr>\n",
       "    <tr>\n",
       "      <th>10</th>\n",
       "      <td>guy right point nt judge speaking abilities ju...</td>\n",
       "      <td>True</td>\n",
       "    </tr>\n",
       "    <tr>\n",
       "      <th>11</th>\n",
       "      <td>moral story nt reach cops gun probably gunna s...</td>\n",
       "      <td>False</td>\n",
       "    </tr>\n",
       "    <tr>\n",
       "      <th>12</th>\n",
       "      <td>Masri close ISIS America</td>\n",
       "      <td>True</td>\n",
       "    </tr>\n",
       "    <tr>\n",
       "      <th>13</th>\n",
       "      <td>know chimpers compassion mud pumping hearts</td>\n",
       "      <td>True</td>\n",
       "    </tr>\n",
       "    <tr>\n",
       "      <th>14</th>\n",
       "      <td>believe wanna believe nt care sayBassem Masri ...</td>\n",
       "      <td>True</td>\n",
       "    </tr>\n",
       "    <tr>\n",
       "      <th>15</th>\n",
       "      <td>Bassem Masri terrorist isis</td>\n",
       "      <td>True</td>\n",
       "    </tr>\n",
       "    <tr>\n",
       "      <th>16</th>\n",
       "      <td>nt waist time trying reason Police spitting Th...</td>\n",
       "      <td>True</td>\n",
       "    </tr>\n",
       "    <tr>\n",
       "      <th>17</th>\n",
       "      <td>wish mr masri dead</td>\n",
       "      <td>True</td>\n",
       "    </tr>\n",
       "    <tr>\n",
       "      <th>18</th>\n",
       "      <td>collapse USA possibilities considered boils di...</td>\n",
       "      <td>False</td>\n",
       "    </tr>\n",
       "    <tr>\n",
       "      <th>19</th>\n",
       "      <td>actually shout fire crowded theater Christophe...</td>\n",
       "      <td>True</td>\n",
       "    </tr>\n",
       "  </tbody>\n",
       "</table>\n",
       "</div>"
      ],
      "text/plain": [
       "                                                 Text  IsToxic\n",
       "0   people step case nt people situation    lump m...    False\n",
       "1   Law enforcement trained shoot apprehend   trai...     True\n",
       "2   nt reckon black lives matter banners held whit...     True\n",
       "3   large number people like police officers calle...    False\n",
       "4   Arab dude absolutely right shot   extra time S...    False\n",
       "5   people facebook    ties isis terrorist groups ...     True\n",
       "6   Check tube post Black man goes epic rant Fergu...     True\n",
       "7   LOVE pussy Staten Island spit cop LOVE happen ...     True\n",
       "8                                     agree protestor    False\n",
       "9                         mike browns father boooshit     True\n",
       "10  guy right point nt judge speaking abilities ju...     True\n",
       "11  moral story nt reach cops gun probably gunna s...    False\n",
       "12                         Masri close ISIS America       True\n",
       "13        know chimpers compassion mud pumping hearts     True\n",
       "14  believe wanna believe nt care sayBassem Masri ...     True\n",
       "15                        Bassem Masri terrorist isis     True\n",
       "16  nt waist time trying reason Police spitting Th...     True\n",
       "17                                 wish mr masri dead     True\n",
       "18  collapse USA possibilities considered boils di...    False\n",
       "19  actually shout fire crowded theater Christophe...     True"
      ]
     },
     "execution_count": 63,
     "metadata": {},
     "output_type": "execute_result"
    }
   ],
   "source": [
    "df = pd.read_csv('../2. Analisis Exploratorio de datos+Ingenieria de caracteristicas/comentarios_sin_emojis.csv')\n",
    "df.head(20\n",
    "       )"
   ]
  },
  {
   "cell_type": "markdown",
   "metadata": {},
   "source": [
    "# Preprocesado --> Normalización y limpieza"
   ]
  },
  {
   "cell_type": "markdown",
   "metadata": {},
   "source": [
    "<h5>Se realiza la limpieza y normalización de los comentarios de la columna Text en las siguientes fases:</h5>\n",
    "<ol>\n",
    "    <li><b>Eliminación de las stopwords:</b> con la clase stopwords de la libreria nltk: Las palabras vacías o stopwords son palabras en cualquier idioma o corpus que ocurren con frecuencia. Nno aportan ninguna información adicional o valiosa al texto que las contiene. Palabras como a, they, the, is, an, etc. generalmente se consideran palabras vacías.</li>\n",
    "    <li><b>Eliminación de carácteres pocos significativos:</b> Con metodo sub de la clase re(proporciona operaciones de coincidencia de expresiones regulares).El método sub retorna la cadena obtenida reemplazando las ocurrencias no superpuestas del pattern («patrón») pasado en el primer parametro en la string (tercer parametro) por el reemplazo indicado en el segundo parametro.</li>\n",
    "      <li><b>Lematización:</b> Con metodo lemmatize de la clase WordLemmatizer de la libreria nltk.La lematización es un proceso lingüístico que consiste en, dada una forma flexionada, hallar el lema correspondiente. El lema es la forma que por convenio se acepta como representante de todas las formas flexionadas de una misma palabra. Es decir, el lema de una palabra es la palabra que nos encontraríamos como entrada en un diccionario tradicional: singular para sustantivos, masculino singular para adjetivos, infinitivo para verbos.</li>\n",
    "     <li><b>Tokenización:</b> Con metodo wordtokenizer de la libreria nltk.La tokenización consiste en dividir un texto en entidades más pequeñas llamadas tokens.</li>\n",
    "         <li><b>Normalización:</b> estandarización de las palabras de los comentarios.En este caso se convierten todas las palabras a minúsculas</li>\n",
    "    \n",
    "</ol>"
   ]
  },
  {
   "cell_type": "markdown",
   "metadata": {},
   "source": [
    "### Stopwords"
   ]
  },
  {
   "cell_type": "code",
   "execution_count": 64,
   "metadata": {
    "execution": {
     "iopub.execute_input": "2022-10-26T19:00:26.617738Z",
     "iopub.status.busy": "2022-10-26T19:00:26.61712Z",
     "iopub.status.idle": "2022-10-26T19:00:26.6251Z",
     "shell.execute_reply": "2022-10-26T19:00:26.623852Z",
     "shell.execute_reply.started": "2022-10-26T19:00:26.617704Z"
    }
   },
   "outputs": [],
   "source": [
    "english_stopwords = stopwords.words('english')\n",
    "english_stopwords.append('nt')\n",
    "# Resta de conjuntos : stopwords sin los elementos del segungo conjunto set\n",
    "stopwords = set(english_stopwords) - set(['i', 'he', 'she', 'you', 'me', 'we', 'us',\n",
    "                                                   'this', 'them', 'that', 'those', 'her', 'his'])"
   ]
  },
  {
   "cell_type": "markdown",
   "metadata": {},
   "source": [
    "### Lematizacion"
   ]
  },
  {
   "cell_type": "code",
   "execution_count": 65,
   "metadata": {
    "execution": {
     "iopub.execute_input": "2022-10-26T19:00:26.62737Z",
     "iopub.status.busy": "2022-10-26T19:00:26.626482Z",
     "iopub.status.idle": "2022-10-26T19:00:26.633502Z",
     "shell.execute_reply": "2022-10-26T19:00:26.632642Z",
     "shell.execute_reply.started": "2022-10-26T19:00:26.627337Z"
    }
   },
   "outputs": [],
   "source": [
    "wnl = WordNetLemmatizer()"
   ]
  },
  {
   "cell_type": "markdown",
   "metadata": {},
   "source": [
    "#### Metodo lemmatize() de la clase WordNetLemmatizer de la librería NLTK\n",
    "\n",
    "Recibe 2 parametros: texto a lemmatizar y pos.\n",
    "El parámetro pos es la etiqueta de la parte del discurso a lematizar.\n",
    "Las opciones válidas son `\"n\"` para sustantivos, `\"v\"` para verbos, `\"a\"` para adjetivos, `\"r\"` para adverbios y `\"s\"` para adjetivos satélite."
   ]
  },
  {
   "cell_type": "code",
   "execution_count": 66,
   "metadata": {
    "execution": {
     "iopub.execute_input": "2022-10-26T19:00:26.635766Z",
     "iopub.status.busy": "2022-10-26T19:00:26.635148Z",
     "iopub.status.idle": "2022-10-26T19:00:26.645294Z",
     "shell.execute_reply": "2022-10-26T19:00:26.6443Z",
     "shell.execute_reply.started": "2022-10-26T19:00:26.635733Z"
    }
   },
   "outputs": [],
   "source": [
    "def lematiza_nombres(words):\n",
    "    a = []\n",
    "    for token in words:\n",
    "        lemmetized_word = wnl.lemmatize(token)\n",
    "        a.append(lemmetized_word)\n",
    "    return a\n",
    "\n",
    "def lematiza_verbos(words):\n",
    "    a = []\n",
    "    for token in words:\n",
    "        lemmetized_word = wnl.lemmatize(token, pos='v')\n",
    "        a.append(lemmetized_word)\n",
    "    return a\n",
    "\n",
    "def lematiza_adjetivos(words):\n",
    "    a = []\n",
    "    for token in words:\n",
    "        lemmetized_word = wnl.lemmatize(token,pos='a')\n",
    "        a.append(lemmetized_word)\n",
    "    return a\n",
    "\n",
    "def lematiza_adverbios(words):\n",
    "    a = []\n",
    "    for token in words:\n",
    "        lemmetized_word = wnl.lemmatize(token, pos='r')\n",
    "        a.append(lemmetized_word)\n",
    "    return a\n",
    "\n",
    "def lematiza_adj_satelites(words):\n",
    "    a = []\n",
    "    for token in words:\n",
    "        lemmetized_word = wnl.lemmatize(token,pos='s')\n",
    "        a.append(lemmetized_word)\n",
    "    return a"
   ]
  },
  {
   "cell_type": "markdown",
   "metadata": {},
   "source": [
    "### Normalización --> Eliminación de caracteres poco significativos y convertir a minúsculas los comentarios"
   ]
  },
  {
   "cell_type": "code",
   "execution_count": 67,
   "metadata": {
    "execution": {
     "iopub.execute_input": "2022-10-26T19:00:26.647403Z",
     "iopub.status.busy": "2022-10-26T19:00:26.646779Z",
     "iopub.status.idle": "2022-10-26T19:00:26.657269Z",
     "shell.execute_reply": "2022-10-26T19:00:26.656136Z",
     "shell.execute_reply.started": "2022-10-26T19:00:26.647368Z"
    }
   },
   "outputs": [],
   "source": [
    "def eliminar_caracteres(text):\n",
    "    text = re.sub(r'[^\\w\\s]', '', text)\n",
    "    text = re.sub(r'#', '', text)\n",
    "    text = re.sub(r'@[A-Za-z0-9]+', '', text)\n",
    "    text = re.sub('(\\\\\\\\u([a-z]|[0-9])+)', ' ', text)\n",
    "    text = re.sub(r'https|http?:\\/\\/\\S+', '', text)\n",
    "    text = re.sub(r\"i'm\", \"i am\", text)\n",
    "    text = re.sub(r\"r\", \"\", text)\n",
    "    text = re.sub(r\"he's\", \"he is\", text)\n",
    "    text = re.sub(r\"she's\", \"she is\", text)\n",
    "    text = re.sub(r\"it's\", \"it is\", text)\n",
    "    text = re.sub(r\"that's\", \"that is\", text)\n",
    "    text = re.sub(r\"what's\", \"that is\", text)\n",
    "    text = re.sub(r\"where's\", \"where is\", text)\n",
    "    text = re.sub(r\"how's\", \"how is\", text)\n",
    "    text = re.sub(r\"'ll\", \" will\", text)\n",
    "    text = re.sub(r\"'ve\", \" have\", text)\n",
    "    text = re.sub(r\"'re\", \" are\", text)\n",
    "    text = re.sub(r\"'d\", \" would\", text)\n",
    "    text = re.sub(r\"'re\", \" are\", text)\n",
    "    text = re.sub(r\"won't\", \"will not\", text)\n",
    "    text = re.sub(r\"can't\", \"cannot\", text)\n",
    "    text = re.sub(r\"n't\", \" not\", text)\n",
    "    text = re.sub(r\"n'\", \"ng\", text)\n",
    "    text = re.sub(r\"'bout\", \"about\", text)\n",
    "    text = re.sub(r\"'til\", \"until\", text)\n",
    "    text = text.translate(str.maketrans('', '', string.punctuation))\n",
    "    text = re.sub(\"(\\W)\",\" \",text)\n",
    "    text = re.sub('S*dS*s*','', text)\n",
    "    # ELIMINAR ABREVIATURAS\n",
    "    text = re.sub(r\"i'm\", \"i am\", text)\n",
    "    text = re.sub(r\"r\", \"\", text)\n",
    "    text = re.sub(r\"he's\", \"he is\", text)\n",
    "    text = re.sub(r\"she's\", \"she is\", text)\n",
    "    text = re.sub(r\"it's\", \"it is\", text)\n",
    "    text = re.sub(r\"that's\", \"that is\", text)\n",
    "    text = re.sub(r\"what's\", \"that is\", text)\n",
    "    text = re.sub(r\"where's\", \"where is\", text)\n",
    "    text = re.sub(r\"how's\", \"how is\", text)\n",
    "    text = re.sub(r\"'ll\", \" will\", text)\n",
    "    text = re.sub(r\"'ve\", \" have\", text)\n",
    "    text = re.sub(r\"'re\", \" are\", text)\n",
    "    text = re.sub(r\"'d\", \" would\", text)\n",
    "    text = re.sub(r\"'re\", \" are\", text)\n",
    "    text = re.sub(r\"won't\", \"will not\", text)\n",
    "    text = re.sub(r\"can't\", \"cannot\", text)\n",
    "    text = re.sub(r\"n't\", \" not\", text)\n",
    "    text = re.sub(r\"n'\", \"ng\", text)\n",
    "    text = re.sub(r\"'bout\", \"about\", text)\n",
    "    text = re.sub(r\"'til\", \"until\", text)\n",
    "    text = text.translate(str.maketrans('', '', string.punctuation))\n",
    "    text = re.sub(\"(\\W)\",\" \",text)\n",
    "    text = re.sub('S*dS*s*','', text)\n",
    "    return text\n"
   ]
  },
  {
   "cell_type": "code",
   "execution_count": 68,
   "metadata": {},
   "outputs": [],
   "source": [
    "def minusculas(text):\n",
    "    text = text.lower()\n",
    "    return text"
   ]
  },
  {
   "cell_type": "code",
   "execution_count": 69,
   "metadata": {
    "execution": {
     "iopub.execute_input": "2022-10-26T19:00:26.659724Z",
     "iopub.status.busy": "2022-10-26T19:00:26.659102Z",
     "iopub.status.idle": "2022-10-26T19:00:26.671344Z",
     "shell.execute_reply": "2022-10-26T19:00:26.670212Z",
     "shell.execute_reply.started": "2022-10-26T19:00:26.659689Z"
    }
   },
   "outputs": [],
   "source": [
    "# Convierte lista de strings en una cadena de strings\n",
    "def list_to_strs(text):\n",
    "    return ' '.join(text)\n"
   ]
  },
  {
   "cell_type": "code",
   "execution_count": 70,
   "metadata": {
    "execution": {
     "iopub.execute_input": "2022-10-26T19:00:26.678066Z",
     "iopub.status.busy": "2022-10-26T19:00:26.677464Z",
     "iopub.status.idle": "2022-10-26T19:00:36.778371Z",
     "shell.execute_reply": "2022-10-26T19:00:36.777226Z",
     "shell.execute_reply.started": "2022-10-26T19:00:26.678021Z"
    }
   },
   "outputs": [],
   "source": [
    "# Normalizacion y limpieza \n",
    "df['Text'] = df['Text'].apply(lambda x: ' '.join([word for word in x.split() if word not in (stopwords)]))\n",
    "df['Text'] = df['Text'].apply(eliminar_caracteres)\n",
    "df['Text'] = df['Text'].apply(minusculas)\n",
    "# Tokenización y lematización\n",
    "df['Text'] = df['Text'].apply(word_tokenize)\n",
    "df['Text'] = df['Text'].apply(lematiza_nombres)\n",
    "df['Text'] = df['Text'].apply(lematiza_verbos)\n",
    "df['Text'] = df['Text'].apply(lematiza_adjetivos)\n",
    "df['Text'] = df['Text'].apply(lematiza_adverbios)\n",
    "df['Text'] = df['Text'].apply(lematiza_adj_satelites)\n",
    "df['Text'] = df['Text'].apply(list_to_strs)"
   ]
  },
  {
   "cell_type": "code",
   "execution_count": 71,
   "metadata": {
    "execution": {
     "iopub.execute_input": "2022-10-26T19:00:36.779899Z",
     "iopub.status.busy": "2022-10-26T19:00:36.779587Z",
     "iopub.status.idle": "2022-10-26T19:00:36.794909Z",
     "shell.execute_reply": "2022-10-26T19:00:36.793718Z",
     "shell.execute_reply.started": "2022-10-26T19:00:36.779872Z"
    }
   },
   "outputs": [
    {
     "data": {
      "text/plain": [
       "0      people step case people situation lump mess ma...\n",
       "1      law enfocement taine shoot appehen taine shoot...\n",
       "2      eckon black life matte bannes hel white cunt k...\n",
       "3      lage numbe people like police office calle cim...\n",
       "4      aab ue absolutely ight shoot exta time shoot a...\n",
       "                             ...                        \n",
       "994                          emembe send national efence\n",
       "995    stats epesent poblem race bait attitue cimes o...\n",
       "996                       quote mothe wow hit ha accuate\n",
       "997                                           vieo acist\n",
       "998                                  go naato annoy lisp\n",
       "Name: Text, Length: 999, dtype: object"
      ]
     },
     "execution_count": 71,
     "metadata": {},
     "output_type": "execute_result"
    }
   ],
   "source": [
    "df['Text']"
   ]
  },
  {
   "cell_type": "markdown",
   "metadata": {},
   "source": [
    "##  Vectorización de palabras"
   ]
  },
  {
   "cell_type": "code",
   "execution_count": 72,
   "metadata": {
    "execution": {
     "iopub.execute_input": "2022-10-26T19:00:37.073413Z",
     "iopub.status.busy": "2022-10-26T19:00:37.072958Z",
     "iopub.status.idle": "2022-10-26T19:00:37.393974Z",
     "shell.execute_reply": "2022-10-26T19:00:37.392895Z",
     "shell.execute_reply.started": "2022-10-26T19:00:37.07337Z"
    }
   },
   "outputs": [],
   "source": [
    "#sklearn\n",
    "from sklearn.model_selection import train_test_split\n",
    "from sklearn import preprocessing\n",
    "from sklearn.utils import shuffle\n",
    "from sklearn.feature_extraction.text import CountVectorizer,TfidfTransformer\n",
    "from sklearn.svm import SVC\n",
    "from sklearn.pipeline import Pipeline\n",
    "from sklearn import metrics\n",
    "from sklearn.linear_model import LogisticRegression\n",
    "\n",
    "from catboost import CatBoostClassifier\n",
    "from xgboost import XGBClassifier"
   ]
  },
  {
   "cell_type": "markdown",
   "metadata": {},
   "source": [
    "### Mezcla aleatoria de los registros del dataframe"
   ]
  },
  {
   "cell_type": "code",
   "execution_count": 73,
   "metadata": {
    "execution": {
     "iopub.execute_input": "2022-10-26T19:00:37.395782Z",
     "iopub.status.busy": "2022-10-26T19:00:37.395454Z",
     "iopub.status.idle": "2022-10-26T19:00:37.413685Z",
     "shell.execute_reply": "2022-10-26T19:00:37.412876Z",
     "shell.execute_reply.started": "2022-10-26T19:00:37.395752Z"
    }
   },
   "outputs": [
    {
     "data": {
      "text/html": [
       "<div>\n",
       "<style scoped>\n",
       "    .dataframe tbody tr th:only-of-type {\n",
       "        vertical-align: middle;\n",
       "    }\n",
       "\n",
       "    .dataframe tbody tr th {\n",
       "        vertical-align: top;\n",
       "    }\n",
       "\n",
       "    .dataframe thead th {\n",
       "        text-align: right;\n",
       "    }\n",
       "</style>\n",
       "<table border=\"1\" class=\"dataframe\">\n",
       "  <thead>\n",
       "    <tr style=\"text-align: right;\">\n",
       "      <th></th>\n",
       "      <th>Text</th>\n",
       "      <th>IsToxic</th>\n",
       "    </tr>\n",
       "  </thead>\n",
       "  <tbody>\n",
       "    <tr>\n",
       "      <th>453</th>\n",
       "      <td>goo job etemining occue bown kille occue simpl...</td>\n",
       "      <td>False</td>\n",
       "    </tr>\n",
       "    <tr>\n",
       "      <th>793</th>\n",
       "      <td>awesome job peggy thank tell tuth westanwithpe...</td>\n",
       "      <td>False</td>\n",
       "    </tr>\n",
       "    <tr>\n",
       "      <th>209</th>\n",
       "      <td>come ea acist comment lol</td>\n",
       "      <td>False</td>\n",
       "    </tr>\n",
       "    <tr>\n",
       "      <th>309</th>\n",
       "      <td>majo iffeence zimmeman case shoote zimmemans w...</td>\n",
       "      <td>False</td>\n",
       "    </tr>\n",
       "    <tr>\n",
       "      <th>740</th>\n",
       "      <td>nigga love victim situation sepaate black peop...</td>\n",
       "      <td>True</td>\n",
       "    </tr>\n",
       "    <tr>\n",
       "      <th>...</th>\n",
       "      <td>...</td>\n",
       "      <td>...</td>\n",
       "    </tr>\n",
       "    <tr>\n",
       "      <th>106</th>\n",
       "      <td>think inecent unessacey event peson shoot m bo...</td>\n",
       "      <td>False</td>\n",
       "    </tr>\n",
       "    <tr>\n",
       "      <th>270</th>\n",
       "      <td>guy love guy spen minute telus oll blunt</td>\n",
       "      <td>False</td>\n",
       "    </tr>\n",
       "    <tr>\n",
       "      <th>860</th>\n",
       "      <td>people shouldve wish wouldve literally burn en...</td>\n",
       "      <td>True</td>\n",
       "    </tr>\n",
       "    <tr>\n",
       "      <th>435</th>\n",
       "      <td>look like m bown suicie cop thing</td>\n",
       "      <td>True</td>\n",
       "    </tr>\n",
       "    <tr>\n",
       "      <th>102</th>\n",
       "      <td>want son eath vain let burn bitch stupi fuck e...</td>\n",
       "      <td>True</td>\n",
       "    </tr>\n",
       "  </tbody>\n",
       "</table>\n",
       "<p>999 rows × 2 columns</p>\n",
       "</div>"
      ],
      "text/plain": [
       "                                                  Text  IsToxic\n",
       "453  goo job etemining occue bown kille occue simpl...    False\n",
       "793  awesome job peggy thank tell tuth westanwithpe...    False\n",
       "209                          come ea acist comment lol    False\n",
       "309  majo iffeence zimmeman case shoote zimmemans w...    False\n",
       "740  nigga love victim situation sepaate black peop...     True\n",
       "..                                                 ...      ...\n",
       "106  think inecent unessacey event peson shoot m bo...    False\n",
       "270           guy love guy spen minute telus oll blunt    False\n",
       "860  people shouldve wish wouldve literally burn en...     True\n",
       "435                  look like m bown suicie cop thing     True\n",
       "102  want son eath vain let burn bitch stupi fuck e...     True\n",
       "\n",
       "[999 rows x 2 columns]"
      ]
     },
     "execution_count": 73,
     "metadata": {},
     "output_type": "execute_result"
    }
   ],
   "source": [
    "## Hipotesis: mezclamos el df por sesgos humanos a la hora de insertar registros o comentarios que son\n",
    "## sugestionados por el sig o ant comentario\n",
    "df = shuffle(df, random_state = 42)\n",
    "df"
   ]
  },
  {
   "cell_type": "markdown",
   "metadata": {},
   "source": [
    "### Vectorizacion: ajuste y escalado/normalizacion de los tokens"
   ]
  },
  {
   "cell_type": "markdown",
   "metadata": {},
   "source": [
    "#### Se crea un vectorizador utilizando un algoritmo Tfidf. Posteriormente se le pasa al vectorizador los datos con los que deseamos trabajar. Ésto nos creará una matriz dispersa"
   ]
  },
  {
   "cell_type": "code",
   "execution_count": 74,
   "metadata": {
    "execution": {
     "iopub.execute_input": "2022-10-26T19:00:37.415201Z",
     "iopub.status.busy": "2022-10-26T19:00:37.414735Z",
     "iopub.status.idle": "2022-10-26T19:00:37.425206Z",
     "shell.execute_reply": "2022-10-26T19:00:37.424075Z",
     "shell.execute_reply.started": "2022-10-26T19:00:37.415154Z"
    }
   },
   "outputs": [],
   "source": [
    "# Inicializacion de constructores de las 2 técnicas de vectorizacion: CountVectorizer() y TfidfTransformer()\n",
    "vectorizer = CountVectorizer()\n",
    "tfid = TfidfTransformer()"
   ]
  },
  {
   "cell_type": "code",
   "execution_count": 75,
   "metadata": {
    "execution": {
     "iopub.execute_input": "2022-10-26T19:00:37.427505Z",
     "iopub.status.busy": "2022-10-26T19:00:37.427011Z",
     "iopub.status.idle": "2022-10-26T19:00:44.815306Z",
     "shell.execute_reply": "2022-10-26T19:00:44.814137Z",
     "shell.execute_reply.started": "2022-10-26T19:00:37.427431Z"
    }
   },
   "outputs": [],
   "source": [
    "#Ajuste y escalado (normalizacion). Finalmente Pasamos a array nuestro vectores a nuestro modelo\n",
    "vectorizer = vectorizer.fit(df['Text'])\n",
    "transformer= vectorizer.transform(df['Text'])\n",
    "transformer=tfid.fit(transformer)"
   ]
  },
  {
   "cell_type": "code",
   "execution_count": 76,
   "metadata": {},
   "outputs": [],
   "source": [
    "X = vectorizer.fit_transform(df['Text']).toarray()\n",
    "X = tfid.fit_transform(X).toarray()"
   ]
  },
  {
   "cell_type": "markdown",
   "metadata": {},
   "source": [
    "#### Convertir variable target booleana en entera con valores binarios (0 o 1)"
   ]
  },
  {
   "cell_type": "code",
   "execution_count": 77,
   "metadata": {
    "scrolled": true
   },
   "outputs": [
    {
     "name": "stdout",
     "output_type": "stream",
     "text": [
      "453    0\n",
      "793    0\n",
      "209    0\n",
      "309    0\n",
      "740    1\n",
      "      ..\n",
      "106    0\n",
      "270    0\n",
      "860    1\n",
      "435    1\n",
      "102    1\n",
      "Name: IsToxic, Length: 999, dtype: int64\n"
     ]
    }
   ],
   "source": [
    "df['IsToxic'] = df['IsToxic'].replace({True: 1, False: 0})\n",
    "print(df['IsToxic'])"
   ]
  },
  {
   "cell_type": "markdown",
   "metadata": {},
   "source": [
    "##### VAriable traget (Columna IsToxic)"
   ]
  },
  {
   "cell_type": "code",
   "execution_count": 78,
   "metadata": {},
   "outputs": [],
   "source": [
    "y = df['IsToxic']"
   ]
  },
  {
   "cell_type": "markdown",
   "metadata": {},
   "source": [
    "### Visualización de métricas de evaluación del modelo"
   ]
  },
  {
   "cell_type": "code",
   "execution_count": 79,
   "metadata": {},
   "outputs": [],
   "source": [
    "from sklearn.metrics import roc_auc_score, confusion_matrix, classification_report, f1_score,precision_score,accuracy_score\n",
    "import matplotlib.pyplot as plt\n",
    "%matplotlib inline\n",
    "import seaborn as sns\n",
    "\n",
    "def show_metrics(predicciones_test, resultado_test,predicciones_train,resultado_train):\n",
    "    # Metricas de test\n",
    "   # Score_auc = roc_auc_score(y_true = predicciones_test, y_score = resultado_test)\n",
    "    f1 = f1_score(y_true = predicciones_test, y_pred = resultado_test)\n",
    "    precision=precision_score(y_true = predicciones_test, y_pred = resultado_test)\n",
    "    accuracy= accuracy_score(y_true = predicciones_test, y_pred = resultado_test)\n",
    "    #print(f'Score_auc:{Score_auc}')\n",
    "    print(f'f1_score:{f1}')\n",
    "    print(f'precision:{precision}')\n",
    "    print(f'accuracy:{accuracy}')\n",
    "    print()\n",
    "    # Metricas train\n",
    "    print(\"METRICAS TRAIN\")\n",
    "    #Score_auc_train = roc_auc_score(y_true = predicciones_train, y_score = resultado_train)\n",
    "    f1_train = f1_score(y_true = predicciones_train, y_pred = resultado_train)\n",
    "    precision_train=precision_score(y_true = predicciones_train, y_pred = resultado_train)\n",
    "    accuracy_train= accuracy_score(y_true = predicciones_train, y_pred = resultado_train)\n",
    "    #print(f'Score_auc train:{Score_auc_train}')\n",
    "    print(f'f1_score train:{f1_train}')\n",
    "    print(f'precision train:{precision_train}')\n",
    "    print(f'accuracy train:{accuracy_train}')\n",
    "    \n",
    "    # Overfitting\n",
    "    print()\n",
    "    print(\"Overfitting\")\n",
    "    #print(f'Score_auc overfitting: {((Score_auc_train-Score_auc)*100)/Score_auc} %')\n",
    "    print(f'f1_score overfitting:{((f1_train-f1)*100)/f1} %')\n",
    "    print(f'precision overfitting:{((precision_train-precision)*100)/precision} %')\n",
    "    print(f'accuracy overfitting:{((accuracy_train-accuracy)*100)/accuracy} %')\n",
    "    \n",
    "    ## MAtriz de confusión\n",
    "    print(classification_report(predicciones_test,resultado_test))\n",
    "    matriz_confusion = confusion_matrix(y_true = predicciones_test, y_pred = resultado_test)\n",
    "    matriz_confusion_df = pd.DataFrame(matriz_confusion)\n",
    "    label = ['positivo', 'negativo']\n",
    "       \n",
    "    matriz_confusion_df.columns= label\n",
    "    matriz_confusion_df.index = label\n",
    "\n",
    "    # Y nombramos lo que son las columnas y las filas:\n",
    "    matriz_confusion_df.columns.name = \"Predicho\"\n",
    "    matriz_confusion_df.index.name = \"Real\"\n",
    "\n",
    "    plt.figure(figsize=(8,4))\n",
    "    sns.heatmap(matriz_confusion_df,                     \n",
    "            annot=True,\n",
    "            fmt=\"d\",\n",
    "            cmap=\"Blues\")"
   ]
  },
  {
   "cell_type": "markdown",
   "metadata": {},
   "source": [
    "### Separación de datos de entrenamiento y validación"
   ]
  },
  {
   "cell_type": "code",
   "execution_count": 80,
   "metadata": {
    "execution": {
     "iopub.execute_input": "2022-10-26T19:00:44.817303Z",
     "iopub.status.busy": "2022-10-26T19:00:44.816944Z",
     "iopub.status.idle": "2022-10-26T19:00:46.237907Z",
     "shell.execute_reply": "2022-10-26T19:00:46.236848Z",
     "shell.execute_reply.started": "2022-10-26T19:00:44.81727Z"
    }
   },
   "outputs": [],
   "source": [
    "X_train, X_test, y_train, y_test = train_test_split(X, y, test_size=0.2, random_state=42)"
   ]
  },
  {
   "cell_type": "markdown",
   "metadata": {},
   "source": [
    "# Algoritmo catboost (Seleccionado en la etapa anterior)\n",
    "<b>Se realizan los siguientes pasos:</b>\n",
    "<ol>\n",
    "    <li>Creacion del modelo con ajuste de hiperparametros y validacion con datos de test</li>\n",
    "    <li>Evaluacion del rendimiento del modelo a través de sus metricas</li>\n",
    "    <li>Tunning o ajuste del modelo mediante optimizacion de hiperparametros con GridSearch y randomSearch combinado con validacion cruzada\n",
    "    </ol>"
   ]
  },
  {
   "cell_type": "markdown",
   "metadata": {},
   "source": [
    "## Catboost"
   ]
  },
  {
   "cell_type": "code",
   "execution_count": 81,
   "metadata": {},
   "outputs": [
    {
     "data": {
      "text/plain": [
       "<catboost.core.CatBoostClassifier at 0x1c9c3c3b100>"
      ]
     },
     "execution_count": 81,
     "metadata": {},
     "output_type": "execute_result"
    }
   ],
   "source": [
    "CBT_model = CatBoostClassifier(iterations=1000, learning_rate=0.001, loss_function='Logloss', eval_metric='AUC', use_best_model=True ) \n",
    "CBT_model.fit(X_train,y_train, eval_set=[(X_test, y_test)], early_stopping_rounds=5, verbose=False)"
   ]
  },
  {
   "cell_type": "code",
   "execution_count": 82,
   "metadata": {
    "execution": {
     "iopub.execute_input": "2022-10-26T19:18:12.637348Z",
     "iopub.status.busy": "2022-10-26T19:18:12.636894Z",
     "iopub.status.idle": "2022-10-26T19:18:43.493522Z",
     "shell.execute_reply": "2022-10-26T19:18:43.492337Z",
     "shell.execute_reply.started": "2022-10-26T19:18:12.637304Z"
    }
   },
   "outputs": [],
   "source": [
    "y_pred_CBT = CBT_model.predict(X_test)\n",
    "pred_train_CBT = CBT_model.predict(X_train)\n",
    "y_pred_train = pred_train_CBT.astype(dtype=bool)"
   ]
  },
  {
   "cell_type": "code",
   "execution_count": 83,
   "metadata": {},
   "outputs": [
    {
     "name": "stdout",
     "output_type": "stream",
     "text": [
      "f1_score:0.4285714285714286\n",
      "precision:0.28125\n",
      "accuracy:0.64\n",
      "\n",
      "METRICAS TRAIN\n",
      "f1_score train:0.4085106382978723\n",
      "precision train:0.26229508196721313\n",
      "accuracy train:0.6520650813516896\n",
      "\n",
      "Overfitting\n",
      "f1_score overfitting:-4.6808510638298 %\n",
      "precision overfitting:-6.739526411657554 %\n",
      "accuracy overfitting:1.8851689612015 %\n",
      "              precision    recall  f1-score   support\n",
      "\n",
      "           0       0.97      0.59      0.74       170\n",
      "           1       0.28      0.90      0.43        30\n",
      "\n",
      "    accuracy                           0.64       200\n",
      "   macro avg       0.63      0.75      0.58       200\n",
      "weighted avg       0.87      0.64      0.69       200\n",
      "\n"
     ]
    },
    {
     "data": {
      "image/png": "[encoded data removed]",
      "text/plain": [
       "<Figure size 800x400 with 2 Axes>"
      ]
     },
     "metadata": {},
     "output_type": "display_data"
    }
   ],
   "source": [
    "show_metrics(y_pred_CBT, y_test,y_pred_train,y_train)"
   ]
  },
  {
   "cell_type": "markdown",
   "metadata": {},
   "source": [
    "### Optimización de hiperparámetros con RandomizedSearchCV"
   ]
  },
  {
   "cell_type": "code",
   "execution_count": null,
   "metadata": {},
   "outputs": [],
   "source": [
    "from sklearn.model_selection import RandomizedSearchCV\n",
    "\n",
    "estimator =CatBoostClassifier()\n",
    "parameters =  {  'depth'         : [4,5,6,7,8,9, 10],\n",
    "                 'learning_rate' : [0.001,0.01,0.02,0.03,0.04],\n",
    "                  'iterations'    : [10, 20,30,40,50,60,70,80,90, 100],\n",
    "              'l2_leaf_reg': [1, 3, 5, 7, 9]\n",
    "            }\n",
    "\n",
    "rd_search = RandomizedSearchCV(\n",
    "    estimator = estimator,\n",
    "    param_distributions = parameters,\n",
    "    scoring = 'roc_auc',\n",
    "    n_jobs = 10,\n",
    "    cv = 5,\n",
    "    verbose=False\n",
    ")\n",
    "\n",
    "eval_set = [(X_train, y_train), (X_test, y_test)]\n",
    "rd_search.fit(X_train, y_train,\n",
    "                early_stopping_rounds = 20,\n",
    "                eval_set = eval_set, verbose = False)\n",
    "\n",
    "print(\" The best estimator across ALL searched params: \", rd_search.best_estimator_)\n",
    "print(\" The best score across ALL searched params: \", rd_search.best_score_)\n",
    "print(\" The best parameters across ALL searched params: \", rd_search.best_params_)\n",
    "print(\" The best scoring across ALL searched params: : \", rd_search.scoring)\n",
    "\n",
    "# Guardamos el mejor modelo\n",
    "modelo_CB_hyper = rd_search.best_estimator_"
   ]
  },
  {
   "cell_type": "code",
   "execution_count": null,
   "metadata": {
    "execution": {
     "iopub.execute_input": "2022-10-26T19:00:37.415201Z",
     "iopub.status.busy": "2022-10-26T19:00:37.414735Z",
     "iopub.status.idle": "2022-10-26T19:00:37.425206Z",
     "shell.execute_reply": "2022-10-26T19:00:37.424075Z",
     "shell.execute_reply.started": "2022-10-26T19:00:37.415154Z"
    }
   },
   "outputs": [],
   "source": [
    "y_pred_CB_rs = modelo_CB_hyper.predict(X_test)\n",
    "pred_train = modelo_CB_hyper.predict(X_train)\n",
    "y_pred_train_rs = pred_train.astype(dtype=bool)\n",
    "show_metrics(y_pred_CB_rs, y_test,y_pred_train_rs,y_train)"
   ]
  },
  {
   "cell_type": "markdown",
   "metadata": {},
   "source": [
    "### Optimización de hiperparámetros con GridSearchCV"
   ]
  },
  {
   "cell_type": "code",
   "execution_count": null,
   "metadata": {},
   "outputs": [],
   "source": [
    "from sklearn.model_selection import GridSearchCV\n",
    "CBC = CatBoostClassifier()\n",
    "parameters = {'depth'         : [4,5,6,7,8,9, 10],\n",
    "                 'learning_rate' : [0.001,0.01,0.02,0.03,0.04],\n",
    "                  'iterations'    : [10, 20,30,40,50,60,70,80,90, 100]\n",
    "                 }\n",
    "Grid_CBC = GridSearchCV(estimator=CBC, param_grid = parameters, cv = 2, n_jobs=-1,scoring = 'precision')\n",
    "Grid_CBC.fit(X_train, y_train,\n",
    "                early_stopping_rounds = 20,\n",
    "                eval_set = eval_set, verbose = False)"
   ]
  },
  {
   "cell_type": "code",
   "execution_count": null,
   "metadata": {},
   "outputs": [],
   "source": [
    "modelo_CB_hyperGrid = Grid_CBC.best_estimator_"
   ]
  },
  {
   "cell_type": "code",
   "execution_count": null,
   "metadata": {
    "scrolled": true
   },
   "outputs": [],
   "source": [
    "y_pred_CBGS =modelo_CB_hyperGrid.predict(X_test)\n",
    "pred_train =modelo_CB_hyperGrid.predict(X_train)\n",
    "y_pred_trainGS = pred_train.astype(dtype=bool)\n",
    "show_metrics(y_pred_CBGS, y_test,y_pred_trainGS,y_train)"
   ]
  },
  {
   "cell_type": "markdown",
   "metadata": {},
   "source": [
    "# Guardar transformer y mejor modelo"
   ]
  },
  {
   "cell_type": "code",
   "execution_count": 40,
   "metadata": {
    "execution": {
     "iopub.execute_input": "2022-10-26T19:18:43.509022Z",
     "iopub.status.busy": "2022-10-26T19:18:43.508647Z",
     "iopub.status.idle": "2022-10-26T19:18:43.516761Z",
     "shell.execute_reply": "2022-10-26T19:18:43.515733Z",
     "shell.execute_reply.started": "2022-10-26T19:18:43.508982Z"
    }
   },
   "outputs": [],
   "source": [
    "import pickle"
   ]
  },
  {
   "cell_type": "code",
   "execution_count": 24,
   "metadata": {},
   "outputs": [],
   "source": [
    "### Guardando diccionario BoW para usarlo mas tarde en la predicción\n",
    "transformer_path = 'transformer.pkl'\n",
    "pickle.dump(vectorizer , open(transformer_path, \"wb\"))"
   ]
  },
  {
   "cell_type": "code",
   "execution_count": 41,
   "metadata": {
    "execution": {
     "iopub.execute_input": "2022-10-26T19:18:43.518476Z",
     "iopub.status.busy": "2022-10-26T19:18:43.518104Z",
     "iopub.status.idle": "2022-10-26T19:18:43.574585Z",
     "shell.execute_reply": "2022-10-26T19:18:43.573312Z",
     "shell.execute_reply.started": "2022-10-26T19:18:43.518443Z"
    }
   },
   "outputs": [],
   "source": [
    "pickle.dump(modelo_CB_hyper, open('modelo_entrenado_final.pkl', 'wb'))"
   ]
  },
  {
   "cell_type": "code",
   "execution_count": null,
   "metadata": {},
   "outputs": [],
   "source": []
  }
 ],
 "metadata": {
  "kernelspec": {
   "display_name": "Python 3 (ipykernel)",
   "language": "python",
   "name": "python3"
  },
  "language_info": {
   "codemirror_mode": {
    "name": "ipython",
    "version": 3
   },
   "file_extension": ".py",
   "mimetype": "text/x-python",
   "name": "python",
   "nbconvert_exporter": "python",
   "pygments_lexer": "ipython3",
   "version": "3.10.7"
  },
  "vscode": {
   "interpreter": {
    "hash": "5897bbd583651accaaff4ef8eaa9185212d6a1d6f91d23d5498bf9077304d7ea"
   }
  }
 },
 "nbformat": 4,
 "nbformat_minor": 4
}
