{
 "cells": [
  {
   "cell_type": "code",
   "execution_count": 1,
   "id": "301b8fbc",
   "metadata": {},
   "outputs": [],
   "source": [
    "import pandas as pd\n",
    "import numpy as np"
   ]
  },
  {
   "cell_type": "markdown",
   "id": "05904543",
   "metadata": {},
   "source": [
    "# Análisis del dataset"
   ]
  },
  {
   "cell_type": "code",
   "execution_count": 4,
   "id": "e8ed4fd8",
   "metadata": {},
   "outputs": [],
   "source": [
    "df = pd.read_csv(\"../youtoxic_english_1000.csv\",   sep = \",\", encoding ='utf-8')"
   ]
  },
  {
   "cell_type": "code",
   "execution_count": 5,
   "id": "7fba810c",
   "metadata": {
    "scrolled": true
   },
   "outputs": [
    {
     "data": {
      "text/html": [
       "<div>\n",
       "<style scoped>\n",
       "    .dataframe tbody tr th:only-of-type {\n",
       "        vertical-align: middle;\n",
       "    }\n",
       "\n",
       "    .dataframe tbody tr th {\n",
       "        vertical-align: top;\n",
       "    }\n",
       "\n",
       "    .dataframe thead th {\n",
       "        text-align: right;\n",
       "    }\n",
       "</style>\n",
       "<table border=\"1\" class=\"dataframe\">\n",
       "  <thead>\n",
       "    <tr style=\"text-align: right;\">\n",
       "      <th></th>\n",
       "      <th>CommentId</th>\n",
       "      <th>VideoId</th>\n",
       "      <th>Text</th>\n",
       "      <th>IsToxic</th>\n",
       "      <th>IsAbusive</th>\n",
       "      <th>IsThreat</th>\n",
       "      <th>IsProvocative</th>\n",
       "      <th>IsObscene</th>\n",
       "      <th>IsHatespeech</th>\n",
       "      <th>IsRacist</th>\n",
       "      <th>IsNationalist</th>\n",
       "      <th>IsSexist</th>\n",
       "      <th>IsHomophobic</th>\n",
       "      <th>IsReligiousHate</th>\n",
       "      <th>IsRadicalism</th>\n",
       "    </tr>\n",
       "  </thead>\n",
       "  <tbody>\n",
       "    <tr>\n",
       "      <th>0</th>\n",
       "      <td>Ugg2KwwX0V8-aXgCoAEC</td>\n",
       "      <td>04kJtp6pVXI</td>\n",
       "      <td>If only people would just take a step back and...</td>\n",
       "      <td>False</td>\n",
       "      <td>False</td>\n",
       "      <td>False</td>\n",
       "      <td>False</td>\n",
       "      <td>False</td>\n",
       "      <td>False</td>\n",
       "      <td>False</td>\n",
       "      <td>False</td>\n",
       "      <td>False</td>\n",
       "      <td>False</td>\n",
       "      <td>False</td>\n",
       "      <td>False</td>\n",
       "    </tr>\n",
       "    <tr>\n",
       "      <th>1</th>\n",
       "      <td>Ugg2s5AzSPioEXgCoAEC</td>\n",
       "      <td>04kJtp6pVXI</td>\n",
       "      <td>Law enforcement is not trained to shoot to app...</td>\n",
       "      <td>True</td>\n",
       "      <td>True</td>\n",
       "      <td>False</td>\n",
       "      <td>False</td>\n",
       "      <td>False</td>\n",
       "      <td>False</td>\n",
       "      <td>False</td>\n",
       "      <td>False</td>\n",
       "      <td>False</td>\n",
       "      <td>False</td>\n",
       "      <td>False</td>\n",
       "      <td>False</td>\n",
       "    </tr>\n",
       "    <tr>\n",
       "      <th>2</th>\n",
       "      <td>Ugg3dWTOxryFfHgCoAEC</td>\n",
       "      <td>04kJtp6pVXI</td>\n",
       "      <td>\\nDont you reckon them 'black lives matter' ba...</td>\n",
       "      <td>True</td>\n",
       "      <td>True</td>\n",
       "      <td>False</td>\n",
       "      <td>False</td>\n",
       "      <td>True</td>\n",
       "      <td>False</td>\n",
       "      <td>False</td>\n",
       "      <td>False</td>\n",
       "      <td>False</td>\n",
       "      <td>False</td>\n",
       "      <td>False</td>\n",
       "      <td>False</td>\n",
       "    </tr>\n",
       "    <tr>\n",
       "      <th>3</th>\n",
       "      <td>Ugg7Gd006w1MPngCoAEC</td>\n",
       "      <td>04kJtp6pVXI</td>\n",
       "      <td>There are a very large number of people who do...</td>\n",
       "      <td>False</td>\n",
       "      <td>False</td>\n",
       "      <td>False</td>\n",
       "      <td>False</td>\n",
       "      <td>False</td>\n",
       "      <td>False</td>\n",
       "      <td>False</td>\n",
       "      <td>False</td>\n",
       "      <td>False</td>\n",
       "      <td>False</td>\n",
       "      <td>False</td>\n",
       "      <td>False</td>\n",
       "    </tr>\n",
       "    <tr>\n",
       "      <th>4</th>\n",
       "      <td>Ugg8FfTbbNF8IngCoAEC</td>\n",
       "      <td>04kJtp6pVXI</td>\n",
       "      <td>The Arab dude is absolutely right, he should h...</td>\n",
       "      <td>False</td>\n",
       "      <td>False</td>\n",
       "      <td>False</td>\n",
       "      <td>False</td>\n",
       "      <td>False</td>\n",
       "      <td>False</td>\n",
       "      <td>False</td>\n",
       "      <td>False</td>\n",
       "      <td>False</td>\n",
       "      <td>False</td>\n",
       "      <td>False</td>\n",
       "      <td>False</td>\n",
       "    </tr>\n",
       "  </tbody>\n",
       "</table>\n",
       "</div>"
      ],
      "text/plain": [
       "              CommentId      VideoId  \\\n",
       "0  Ugg2KwwX0V8-aXgCoAEC  04kJtp6pVXI   \n",
       "1  Ugg2s5AzSPioEXgCoAEC  04kJtp6pVXI   \n",
       "2  Ugg3dWTOxryFfHgCoAEC  04kJtp6pVXI   \n",
       "3  Ugg7Gd006w1MPngCoAEC  04kJtp6pVXI   \n",
       "4  Ugg8FfTbbNF8IngCoAEC  04kJtp6pVXI   \n",
       "\n",
       "                                                Text  IsToxic  IsAbusive  \\\n",
       "0  If only people would just take a step back and...    False      False   \n",
       "1  Law enforcement is not trained to shoot to app...     True       True   \n",
       "2  \\nDont you reckon them 'black lives matter' ba...     True       True   \n",
       "3  There are a very large number of people who do...    False      False   \n",
       "4  The Arab dude is absolutely right, he should h...    False      False   \n",
       "\n",
       "   IsThreat  IsProvocative  IsObscene  IsHatespeech  IsRacist  IsNationalist  \\\n",
       "0     False          False      False         False     False          False   \n",
       "1     False          False      False         False     False          False   \n",
       "2     False          False       True         False     False          False   \n",
       "3     False          False      False         False     False          False   \n",
       "4     False          False      False         False     False          False   \n",
       "\n",
       "   IsSexist  IsHomophobic  IsReligiousHate  IsRadicalism  \n",
       "0     False         False            False         False  \n",
       "1     False         False            False         False  \n",
       "2     False         False            False         False  \n",
       "3     False         False            False         False  \n",
       "4     False         False            False         False  "
      ]
     },
     "execution_count": 5,
     "metadata": {},
     "output_type": "execute_result"
    }
   ],
   "source": [
    "df.head()"
   ]
  },
  {
   "cell_type": "code",
   "execution_count": 6,
   "id": "62e864f0",
   "metadata": {
    "scrolled": false
   },
   "outputs": [
    {
     "name": "stdout",
     "output_type": "stream",
     "text": [
      "<class 'pandas.core.frame.DataFrame'>\n",
      "RangeIndex: 1000 entries, 0 to 999\n",
      "Data columns (total 15 columns):\n",
      " #   Column           Non-Null Count  Dtype \n",
      "---  ------           --------------  ----- \n",
      " 0   CommentId        1000 non-null   object\n",
      " 1   VideoId          1000 non-null   object\n",
      " 2   Text             1000 non-null   object\n",
      " 3   IsToxic          1000 non-null   bool  \n",
      " 4   IsAbusive        1000 non-null   bool  \n",
      " 5   IsThreat         1000 non-null   bool  \n",
      " 6   IsProvocative    1000 non-null   bool  \n",
      " 7   IsObscene        1000 non-null   bool  \n",
      " 8   IsHatespeech     1000 non-null   bool  \n",
      " 9   IsRacist         1000 non-null   bool  \n",
      " 10  IsNationalist    1000 non-null   bool  \n",
      " 11  IsSexist         1000 non-null   bool  \n",
      " 12  IsHomophobic     1000 non-null   bool  \n",
      " 13  IsReligiousHate  1000 non-null   bool  \n",
      " 14  IsRadicalism     1000 non-null   bool  \n",
      "dtypes: bool(12), object(3)\n",
      "memory usage: 35.3+ KB\n"
     ]
    }
   ],
   "source": [
    "df.info()"
   ]
  },
  {
   "cell_type": "markdown",
   "id": "b99c83ea",
   "metadata": {},
   "source": [
    "### 1000 registros de comentarios  .  Tipos de datos : 3 columnas de tipo object(string) y 12 columnas de tipo booleanos .\n",
    "#### Las columnas de tipo string corresponden a las identificaciones del comentario, del video del comentario y el texto del comentario\n"
   ]
  },
  {
   "cell_type": "code",
   "execution_count": 7,
   "id": "d8701b1a",
   "metadata": {
    "scrolled": true
   },
   "outputs": [
    {
     "data": {
      "text/plain": [
       "CommentId          0\n",
       "VideoId            0\n",
       "Text               0\n",
       "IsToxic            0\n",
       "IsAbusive          0\n",
       "IsThreat           0\n",
       "IsProvocative      0\n",
       "IsObscene          0\n",
       "IsHatespeech       0\n",
       "IsRacist           0\n",
       "IsNationalist      0\n",
       "IsSexist           0\n",
       "IsHomophobic       0\n",
       "IsReligiousHate    0\n",
       "IsRadicalism       0\n",
       "dtype: int64"
      ]
     },
     "execution_count": 7,
     "metadata": {},
     "output_type": "execute_result"
    }
   ],
   "source": [
    "# Verifico valores nulos\n",
    "df.isnull().sum()"
   ]
  },
  {
   "cell_type": "markdown",
   "id": "f1f2e1c0",
   "metadata": {},
   "source": [
    "#### No hay valores nulos en ninguna columna"
   ]
  },
  {
   "cell_type": "markdown",
   "id": "e3bcc92f",
   "metadata": {},
   "source": [
    "# Limpieza de  comentarios --> limpieza de valores de la columna Text"
   ]
  },
  {
   "cell_type": "code",
   "execution_count": 8,
   "id": "25f1816a",
   "metadata": {},
   "outputs": [],
   "source": [
    "# Importa spaCy\n",
    "import spacy\n",
    "from sklearn.feature_extraction.text import CountVectorizer\n",
    "import re\n",
    "import string"
   ]
  },
  {
   "cell_type": "code",
   "execution_count": 9,
   "id": "d4b9676d",
   "metadata": {},
   "outputs": [],
   "source": [
    "# Crea un objeto nlp vacío para procesar ingles --> pipeline de procesamiento\n",
    "nlp = spacy.blank(\"en\")"
   ]
  },
  {
   "cell_type": "markdown",
   "id": "754db697",
   "metadata": {},
   "source": [
    "#### Contador de palabras y caracteres de nuestros comentarios"
   ]
  },
  {
   "cell_type": "code",
   "execution_count": 10,
   "id": "23f10f3d",
   "metadata": {},
   "outputs": [],
   "source": [
    "#Contador de palabras y letras que usaré cuantas palabras y caracteres se eliminan con la normalización\n",
    "def contador(df):\n",
    "    # nuestro target es Text, indicamos la longitud de palabras y se crea nueva columna \n",
    "    total_caracter = df['Text'].str.len().sum()\n",
    "    total_words =  df['Text'].str.split().str.len().sum()\n",
    "    return total_caracter,total_words"
   ]
  },
  {
   "cell_type": "markdown",
   "id": "9bbf512c",
   "metadata": {},
   "source": [
    "#### La limpieza se realizará en los siguientes puntos:\n",
    "<ol>\n",
    "    <li>Eliminar caracteres especificos con libreria re y usando expresiones regulares</li>\n",
    "    <li>Eliminar los stop words o palabras vacías : palabras no tienen un significado por sí solas, sino que modifican o acompañan a otras, este grupo suele estar conformado por artículos, pronombres, preposiciones, adverbios e incluso algunos verbos. </li>\n",
    "</ol>"
   ]
  },
  {
   "cell_type": "markdown",
   "id": "8aa426ff",
   "metadata": {},
   "source": [
    "##### Libreria re: Este módulo proporciona operaciones de coincidencia de expresiones regulares\n",
    "<ol>\n",
    "    <li>Metodo sub: Retorna la cadena obtenida reemplazando las ocurrencias no superpuestas del pattern («patrón») \n",
    "    por lo pasado en el segundo parametro ,en la string pasada  en el tercer parametro.\n",
    "    Si el patrón no se encuentra, se retorna string sin cambios. </li>\n",
    "    <li>Metodo escape: Caracteres de escape especiales en pattern (» patrón»). Esto es útil si quieres hacer coincidir una cadena literal arbitraria que puede tener metacaracteres de expresión regular en ella.</li>\n",
    "</ol>\n",
    "\n",
    "##### Libreria string: Operaciones comunes de cadena de caracteres\n",
    "<ol>\n",
    "    <li>variable punctuation: devuelve el conjunto de símbolos considerados signos de puntuación </li>\n",
    "    \n",
    "</ol>"
   ]
  },
  {
   "cell_type": "markdown",
   "id": "5a0ec40e",
   "metadata": {},
   "source": [
    "\n",
    "### Metodos de limpieza"
   ]
  },
  {
   "cell_type": "code",
   "execution_count": 11,
   "id": "3f7a83a2",
   "metadata": {},
   "outputs": [],
   "source": [
    "\"Elimina caracteres poco significativos a fin de reducir la cantidad de palabras a las mas significativas\"\n",
    "def limpiar_texto(text):\n",
    "    text_mod = re.sub('.*?¿', '', text)\n",
    "    re.sub('[0-9]+', '', text_mod)\n",
    "    text_mod = re.sub('[%s]' % re.escape(string.punctuation), '', text_mod)\n",
    "    text_mod = re.sub('\\w*\\d\\w*', '', text_mod)\n",
    "    text_mod = re.sub('\\n', '', text_mod)\n",
    "    return text_mod"
   ]
  },
  {
   "cell_type": "code",
   "execution_count": 12,
   "id": "cfc1bccb",
   "metadata": {},
   "outputs": [],
   "source": [
    "def eliminar_stop_words(text):\n",
    "    doc = nlp(text)\n",
    "    tokens = [token.text for token in doc if not token.is_stop]\n",
    "    return \" \".join(token for token in tokens)"
   ]
  },
  {
   "cell_type": "code",
   "execution_count": 13,
   "id": "d313ec1a",
   "metadata": {},
   "outputs": [],
   "source": [
    "def limpieza_data(df): \n",
    "    df['Text'] = df['Text'].apply(limpiar_texto)\n",
    "    df['Text'] = df['Text'].apply(eliminar_stop_words)\n",
    "    return df\n",
    "        "
   ]
  },
  {
   "cell_type": "markdown",
   "id": "68baece5",
   "metadata": {},
   "source": [
    "#### Cantidad de palabras y caracteres de los comentarios antes de la limpieza"
   ]
  },
  {
   "cell_type": "code",
   "execution_count": 14,
   "id": "db4c79a4",
   "metadata": {},
   "outputs": [
    {
     "name": "stdout",
     "output_type": "stream",
     "text": [
      "total de caracteres: 185554\n",
      "total de palabras: 33776\n"
     ]
    }
   ],
   "source": [
    "total_char,total_words =contador(df)\n",
    "print(f\"total de caracteres: {total_char}\")\n",
    "print(f\"total de palabras: {total_words}\")"
   ]
  },
  {
   "cell_type": "markdown",
   "id": "c14da46f",
   "metadata": {},
   "source": [
    "###### Hay 185.554 caracteres y 33.776 palabras  antes de la limpieza"
   ]
  },
  {
   "cell_type": "code",
   "execution_count": 15,
   "id": "094bdc81",
   "metadata": {
    "scrolled": true
   },
   "outputs": [],
   "source": [
    "df = limpieza_data(df)"
   ]
  },
  {
   "cell_type": "markdown",
   "id": "b016415d",
   "metadata": {},
   "source": [
    "#### Cantidad de palabras y caracteres de los comentarios despues de la limpieza"
   ]
  },
  {
   "cell_type": "code",
   "execution_count": 16,
   "id": "5390eb7c",
   "metadata": {},
   "outputs": [
    {
     "name": "stdout",
     "output_type": "stream",
     "text": [
      "total de caracteres: 104921\n",
      "total de palabras: 15334\n"
     ]
    }
   ],
   "source": [
    "total_char,total_words =contador(df)\n",
    "print(f\"total de caracteres: {total_char}\")\n",
    "print(f\"total de palabras: {total_words}\")"
   ]
  },
  {
   "cell_type": "markdown",
   "id": "845b2835",
   "metadata": {},
   "source": [
    "## En total se han eliminado :\n",
    "\n",
    "<ul>\n",
    "    <li>Caracteres = 185554 -  104921=<h5> 80.633 caracteres eliminados</h5></li>\n",
    "    <li>Palabras  = 33776 -  15334=<h5>18442 palabras elminadas</h5> </li>\n",
    "</ul>"
   ]
  },
  {
   "cell_type": "code",
   "execution_count": 17,
   "id": "a792a916",
   "metadata": {
    "scrolled": true
   },
   "outputs": [
    {
     "name": "stdout",
     "output_type": "stream",
     "text": [
      "<class 'pandas.core.frame.DataFrame'>\n",
      "RangeIndex: 1000 entries, 0 to 999\n",
      "Data columns (total 15 columns):\n",
      " #   Column           Non-Null Count  Dtype \n",
      "---  ------           --------------  ----- \n",
      " 0   CommentId        1000 non-null   object\n",
      " 1   VideoId          1000 non-null   object\n",
      " 2   Text             1000 non-null   object\n",
      " 3   IsToxic          1000 non-null   bool  \n",
      " 4   IsAbusive        1000 non-null   bool  \n",
      " 5   IsThreat         1000 non-null   bool  \n",
      " 6   IsProvocative    1000 non-null   bool  \n",
      " 7   IsObscene        1000 non-null   bool  \n",
      " 8   IsHatespeech     1000 non-null   bool  \n",
      " 9   IsRacist         1000 non-null   bool  \n",
      " 10  IsNationalist    1000 non-null   bool  \n",
      " 11  IsSexist         1000 non-null   bool  \n",
      " 12  IsHomophobic     1000 non-null   bool  \n",
      " 13  IsReligiousHate  1000 non-null   bool  \n",
      " 14  IsRadicalism     1000 non-null   bool  \n",
      "dtypes: bool(12), object(3)\n",
      "memory usage: 35.3+ KB\n"
     ]
    }
   ],
   "source": [
    "df.info()"
   ]
  },
  {
   "cell_type": "markdown",
   "id": "5d2dd484",
   "metadata": {},
   "source": [
    "## Guardar dataset limpio"
   ]
  },
  {
   "cell_type": "code",
   "execution_count": 18,
   "id": "e8a9fcce",
   "metadata": {},
   "outputs": [],
   "source": [
    "df.to_csv('cleaning_youtoxic.csv',index=False)"
   ]
  }
 ],
 "metadata": {
  "kernelspec": {
   "display_name": "Python 3 (ipykernel)",
   "language": "python",
   "name": "python3"
  },
  "language_info": {
   "codemirror_mode": {
    "name": "ipython",
    "version": 3
   },
   "file_extension": ".py",
   "mimetype": "text/x-python",
   "name": "python",
   "nbconvert_exporter": "python",
   "pygments_lexer": "ipython3",
   "version": "3.10.7"
  }
 },
 "nbformat": 4,
 "nbformat_minor": 5
}
